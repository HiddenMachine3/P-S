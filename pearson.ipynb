{
 "cells": [
  {
   "cell_type": "markdown",
   "metadata": {},
   "source": [
    "# Calculating the Pearson Correlation Coefficient"
   ]
  },
  {
   "cell_type": "code",
   "execution_count": 6,
   "id": "4adf42004d5f24af",
   "metadata": {
    "ExecuteTime": {
     "end_time": "2023-11-12T02:50:38.366492Z",
     "start_time": "2023-11-12T02:50:36.493162Z"
    },
    "collapsed": false
   },
   "outputs": [],
   "source": [
    "import pandas as pd\n",
    "import matplotlib.pyplot as plt\n",
    "import numpy as np"
   ]
  },
  {
   "cell_type": "code",
   "execution_count": 7,
   "id": "19de8b333d917e6f",
   "metadata": {
    "ExecuteTime": {
     "end_time": "2023-11-12T02:50:38.974746Z",
     "start_time": "2023-11-12T02:50:38.962258Z"
    },
    "collapsed": false
   },
   "outputs": [],
   "source": [
    "# Read the csv file into a pandas DataFrame\n",
    "dataSet = \"./Corr_Reg_dataset.xlsx\""
   ]
  },
  {
   "cell_type": "code",
   "execution_count": 8,
   "id": "4261e37e0fb219f2",
   "metadata": {
    "ExecuteTime": {
     "end_time": "2023-11-12T02:50:40.013959Z",
     "start_time": "2023-11-12T02:50:39.669550Z"
    },
    "collapsed": false
   },
   "outputs": [],
   "source": [
    "df = pd.read_excel(dataSet, sheet_name='data1')"
   ]
  },
  {
   "cell_type": "code",
   "execution_count": 10,
   "id": "ec7ccf11475cf320",
   "metadata": {
    "ExecuteTime": {
     "end_time": "2023-11-12T02:50:40.680340Z",
     "start_time": "2023-11-12T02:50:40.674291Z"
    },
    "collapsed": false
   },
   "outputs": [],
   "source": [
    "mean_X = df['Age (years) (X)'].mean()\n",
    "mean_Y = df['ln urea (Y)'].mean()"
   ]
  },
  {
   "cell_type": "code",
   "execution_count": 11,
   "id": "b72442ca7b939aef",
   "metadata": {
    "ExecuteTime": {
     "end_time": "2023-11-12T02:50:41.494086Z",
     "start_time": "2023-11-12T02:50:41.488004Z"
    },
    "collapsed": false
   },
   "outputs": [],
   "source": [
    "xi_diff_xBar = df['Age (years) (X)'] - mean_X\n",
    "yi_diff_yBar = df['ln urea (Y)'] - mean_Y"
   ]
  },
  {
   "cell_type": "code",
   "execution_count": 12,
   "id": "ed825f984b208436",
   "metadata": {
    "ExecuteTime": {
     "end_time": "2023-11-12T02:50:42.303022Z",
     "start_time": "2023-11-12T02:50:42.296081Z"
    },
    "collapsed": false
   },
   "outputs": [],
   "source": [
    "xi_diff_xBar_squared = xi_diff_xBar**2\n",
    "yi_diff_yBar_squared = yi_diff_yBar**2"
   ]
  },
  {
   "cell_type": "code",
   "execution_count": 13,
   "id": "e20a382d34ee09bf",
   "metadata": {
    "ExecuteTime": {
     "end_time": "2023-11-12T02:50:43.150810Z",
     "start_time": "2023-11-12T02:50:43.027235Z"
    },
    "collapsed": false
   },
   "outputs": [],
   "source": [
    "sqSumProd = xi_diff_xBar * yi_diff_yBar"
   ]
  },
  {
   "cell_type": "code",
   "execution_count": 14,
   "id": "d522a8d0357f71e8",
   "metadata": {
    "ExecuteTime": {
     "end_time": "2023-11-12T02:50:43.772696Z",
     "start_time": "2023-11-12T02:50:43.764917Z"
    },
    "collapsed": false
   },
   "outputs": [],
   "source": [
    "sum_yi_diff_yBar_squared = sum(yi_diff_yBar_squared)\n",
    "sum_xi_diff_xBar_squared = sum(xi_diff_xBar_squared)\n",
    "sum_sqSumProd = sum(sqSumProd)"
   ]
  },
  {
   "cell_type": "code",
   "execution_count": 15,
   "id": "c6265886eb165a81",
   "metadata": {
    "ExecuteTime": {
     "end_time": "2023-11-12T02:50:45.274261Z",
     "start_time": "2023-11-12T02:50:45.165938Z"
    },
    "collapsed": false
   },
   "outputs": [
    {
     "data": {
      "text/plain": [
       "0.6201371451644303"
      ]
     },
     "execution_count": 15,
     "metadata": {},
     "output_type": "execute_result"
    }
   ],
   "source": [
    "r = sum_sqSumProd / np.sqrt(sum_xi_diff_xBar_squared * sum_yi_diff_yBar_squared)\n",
    "r"
   ]
  }
 ],
 "metadata": {
  "kernelspec": {
   "display_name": "Python 3",
   "language": "python",
   "name": "python3"
  },
  "language_info": {
   "codemirror_mode": {
    "name": "ipython",
    "version": 3
   },
   "file_extension": ".py",
   "mimetype": "text/x-python",
   "name": "python",
   "nbconvert_exporter": "python",
   "pygments_lexer": "ipython3",
   "version": "3.11.6"
  }
 },
 "nbformat": 4,
 "nbformat_minor": 5
}
