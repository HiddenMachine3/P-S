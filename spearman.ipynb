{
 "cells": [
  {
   "cell_type": "markdown",
   "metadata": {},
   "source": [
    "# Calculating the Spearman Correlation Coefficient"
   ]
  },
  {
   "cell_type": "code",
   "execution_count": 11,
   "id": "4adf42004d5f24af",
   "metadata": {
    "ExecuteTime": {
     "end_time": "2023-11-12T02:50:38.366492Z",
     "start_time": "2023-11-12T02:50:36.493162Z"
    },
    "collapsed": false
   },
   "outputs": [],
   "source": [
    "import pandas as pd\n",
    "import matplotlib.pyplot as plt\n",
    "import numpy as np"
   ]
  },
  {
   "cell_type": "code",
   "execution_count": 12,
   "id": "19de8b333d917e6f",
   "metadata": {
    "ExecuteTime": {
     "end_time": "2023-11-12T02:50:38.974746Z",
     "start_time": "2023-11-12T02:50:38.962258Z"
    },
    "collapsed": false
   },
   "outputs": [],
   "source": [
    "# Read the csv file into a pandas DataFrame\n",
    "dataSet = \"./Corr_Reg_dataset.xlsx\""
   ]
  },
  {
   "cell_type": "code",
   "execution_count": 13,
   "id": "4261e37e0fb219f2",
   "metadata": {
    "ExecuteTime": {
     "end_time": "2023-11-12T02:50:40.013959Z",
     "start_time": "2023-11-12T02:50:39.669550Z"
    },
    "collapsed": false
   },
   "outputs": [],
   "source": [
    "df = pd.read_excel(dataSet, sheet_name='data1')"
   ]
  },
  {
   "cell_type": "code",
   "execution_count": 14,
   "id": "ec7ccf11475cf320",
   "metadata": {
    "ExecuteTime": {
     "end_time": "2023-11-12T02:50:40.680340Z",
     "start_time": "2023-11-12T02:50:40.674291Z"
    },
    "collapsed": false
   },
   "outputs": [],
   "source": [
    "df['age_rank'] = df['Age (years) (X)'].rank()\n",
    "\n",
    "df['urea_rank'] = df['ln urea (Y)'].rank()"
   ]
  },
  {
   "cell_type": "code",
   "execution_count": 15,
   "id": "ed825f984b208436",
   "metadata": {
    "ExecuteTime": {
     "end_time": "2023-11-12T02:50:42.303022Z",
     "start_time": "2023-11-12T02:50:42.296081Z"
    },
    "collapsed": false
   },
   "outputs": [
    {
     "name": "stdout",
     "output_type": "stream",
     "text": [
      "Spearman correlation coefficient: 0.6609\n"
     ]
    }
   ],
   "source": [
    "# Calculate the differences and squared differences\n",
    "df['d'] = df['age_rank'] - df['urea_rank']\n",
    "df['d_squared'] = df['d'] ** 2\n",
    "\n",
    "# Sum of squared differences\n",
    "sum_d_squared = df['d_squared'].sum()\n",
    "\n",
    "# Number of observations\n",
    "n = len(df)\n",
    "\n",
    "# Calculate the Spearman correlation coefficient\n",
    "rho = 1 - (6 * sum_d_squared) / (n * (n**2 - 1))\n",
    "\n",
    "# Print the result\n",
    "print(f\"Spearman correlation coefficient: {rho:.4f}\")"
   ]
  }
 ],
 "metadata": {
  "kernelspec": {
   "display_name": "Python 3",
   "language": "python",
   "name": "python3"
  },
  "language_info": {
   "codemirror_mode": {
    "name": "ipython",
    "version": 3
   },
   "file_extension": ".py",
   "mimetype": "text/x-python",
   "name": "python",
   "nbconvert_exporter": "python",
   "pygments_lexer": "ipython3",
   "version": "3.11.6"
  }
 },
 "nbformat": 4,
 "nbformat_minor": 5
}
