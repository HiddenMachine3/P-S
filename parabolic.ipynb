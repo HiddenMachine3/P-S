{
 "cells": [
  {
   "cell_type": "code",
   "execution_count": 1,
   "id": "initial_id",
   "metadata": {
    "ExecuteTime": {
     "end_time": "2023-11-12T03:25:24.482381Z",
     "start_time": "2023-11-12T03:25:23.387721Z"
    },
    "collapsed": true
   },
   "outputs": [],
   "source": [
    "import numpy as np\n",
    "import matplotlib.pyplot as plt\n",
    "import pandas as pd"
   ]
  },
  {
   "cell_type": "code",
   "execution_count": 2,
   "id": "63b63829bb5aa3a7",
   "metadata": {
    "ExecuteTime": {
     "end_time": "2023-11-12T03:26:21.474365Z",
     "start_time": "2023-11-12T03:26:21.383053Z"
    },
    "collapsed": false
   },
   "outputs": [],
   "source": [
    "dataSet = pd.read_excel('./Corr_Reg_dataset.xlsx', sheet_name='parabolic')"
   ]
  },
  {
   "cell_type": "code",
   "execution_count": 3,
   "id": "820e85c1e5c766fb",
   "metadata": {
    "ExecuteTime": {
     "end_time": "2023-11-12T03:32:53.959762Z",
     "start_time": "2023-11-12T03:32:53.940629Z"
    },
    "collapsed": false
   },
   "outputs": [],
   "source": [
    "X = dataSet['X']\n",
    "Y = dataSet['Y']"
   ]
  },
  {
   "cell_type": "code",
   "execution_count": 4,
   "id": "cf86d329e67afee1",
   "metadata": {
    "ExecuteTime": {
     "end_time": "2023-11-12T03:33:07.714839Z",
     "start_time": "2023-11-12T03:33:07.704457Z"
    },
    "collapsed": false
   },
   "outputs": [],
   "source": [
    "sum_xi = sum(X)\n",
    "sum_yi = sum(Y)"
   ]
  },
  {
   "cell_type": "code",
   "execution_count": 5,
   "id": "2015fe535498c8d",
   "metadata": {
    "ExecuteTime": {
     "end_time": "2023-11-12T03:41:42.019761Z",
     "start_time": "2023-11-12T03:41:41.989628Z"
    },
    "collapsed": false
   },
   "outputs": [],
   "source": [
    "sum_xi2 = sum(X**2)\n",
    "sum_xi3 = sum(X**3)\n",
    "sum_xi4 = sum(X**4)"
   ]
  },
  {
   "cell_type": "code",
   "execution_count": 6,
   "id": "b24709109d720f43",
   "metadata": {
    "ExecuteTime": {
     "end_time": "2023-11-12T03:42:54.969923Z",
     "start_time": "2023-11-12T03:42:54.959340Z"
    },
    "collapsed": false
   },
   "outputs": [],
   "source": [
    "sum_xy = sum(X * Y)"
   ]
  },
  {
   "cell_type": "code",
   "execution_count": 7,
   "id": "f9c394a33ea3577d",
   "metadata": {
    "ExecuteTime": {
     "end_time": "2023-11-12T03:44:55.895660Z",
     "start_time": "2023-11-12T03:44:55.886239Z"
    },
    "collapsed": false
   },
   "outputs": [],
   "source": [
    "sum_x2y = sum((X**2) * Y)"
   ]
  },
  {
   "cell_type": "code",
   "execution_count": 8,
   "id": "a370eb17d3095384",
   "metadata": {
    "ExecuteTime": {
     "end_time": "2023-11-12T03:45:39.118522Z",
     "start_time": "2023-11-12T03:45:39.109564Z"
    },
    "collapsed": false
   },
   "outputs": [],
   "source": [
    "coeffieient_matrix = np.array([[len(X), sum_xi, sum_xi2], [sum_xi, sum_xi2, sum_xi3], [sum_xi2, sum_xi3, sum_xi4]]) "
   ]
  },
  {
   "cell_type": "code",
   "execution_count": 9,
   "id": "60863c9cbb1d7e67",
   "metadata": {
    "ExecuteTime": {
     "end_time": "2023-11-12T03:45:56.540804Z",
     "start_time": "2023-11-12T03:45:56.497185Z"
    },
    "collapsed": false
   },
   "outputs": [],
   "source": [
    "rh_Vector = np.array([sum_yi, sum_xy, sum_x2y])"
   ]
  },
  {
   "cell_type": "code",
   "execution_count": 10,
   "id": "badb30879ff5a417",
   "metadata": {
    "ExecuteTime": {
     "end_time": "2023-11-12T03:46:06.981044Z",
     "start_time": "2023-11-12T03:46:06.952362Z"
    },
    "collapsed": false
   },
   "outputs": [],
   "source": [
    "prod = np.linalg.solve(coeffieient_matrix, rh_Vector)"
   ]
  },
  {
   "cell_type": "code",
   "execution_count": 11,
   "id": "9216697959a8654b",
   "metadata": {
    "ExecuteTime": {
     "end_time": "2023-11-12T03:46:19.040557Z",
     "start_time": "2023-11-12T03:46:19.033161Z"
    },
    "collapsed": false
   },
   "outputs": [],
   "source": [
    "coeffA, coeffB, coeffC = prod"
   ]
  },
  {
   "cell_type": "code",
   "execution_count": 12,
   "id": "a523aaf3652dd8de",
   "metadata": {
    "ExecuteTime": {
     "end_time": "2023-11-12T03:47:24.095580Z",
     "start_time": "2023-11-12T03:47:24.078807Z"
    },
    "collapsed": false
   },
   "outputs": [
    {
     "name": "stdout",
     "output_type": "stream",
     "text": [
      "Coeffieient A: 12.64\n",
      "Coeffieient A: 6.30\n",
      "Coeffieient A: 2.12\n"
     ]
    }
   ],
   "source": [
    "print(f'Coeffieient A: {coeffA:.2f}')\n",
    "print(f'Coeffieient A: {coeffB:.2f}')\n",
    "print(f'Coeffieient A: {coeffC:.2f}')"
   ]
  },
  {
   "cell_type": "code",
   "execution_count": 13,
   "id": "4e95c97c3e7f1612",
   "metadata": {
    "ExecuteTime": {
     "end_time": "2023-11-12T03:47:52.316996Z",
     "start_time": "2023-11-12T03:47:52.298698Z"
    },
    "collapsed": false
   },
   "outputs": [],
   "source": [
    "y = coeffA + coeffB * X + coeffC * (X**2)"
   ]
  },
  {
   "cell_type": "code",
   "execution_count": 14,
   "id": "30cffca11fa99c9d",
   "metadata": {
    "ExecuteTime": {
     "end_time": "2023-11-12T03:50:53.344473Z",
     "start_time": "2023-11-12T03:50:53.172233Z"
    },
    "collapsed": false
   },
   "outputs": [
    {
     "data": {
      "text/plain": [
       "[<matplotlib.lines.Line2D at 0x228c383c190>]"
      ]
     },
     "execution_count": 14,
     "metadata": {},
     "output_type": "execute_result"
    },
    {
     "data": {
      "image/png": "[encoded data removed]",
      "text/plain": [
       "<Figure size 640x480 with 1 Axes>"
      ]
     },
     "metadata": {},
     "output_type": "display_data"
    }
   ],
   "source": [
    "plt.scatter(X, Y, color='blue', marker='o')\n",
    "plt.plot(X, y, color='green', linewidth=1)"
   ]
  },
  {
   "cell_type": "code",
   "execution_count": null,
   "id": "2b5548bb7f4bf662",
   "metadata": {
    "collapsed": false
   },
   "outputs": [],
   "source": []
  }
 ],
 "metadata": {
  "kernelspec": {
   "display_name": "Python 3",
   "language": "python",
   "name": "python3"
  },
  "language_info": {
   "codemirror_mode": {
    "name": "ipython",
    "version": 3
   },
   "file_extension": ".py",
   "mimetype": "text/x-python",
   "name": "python",
   "nbconvert_exporter": "python",
   "pygments_lexer": "ipython3",
   "version": "3.11.6"
  }
 },
 "nbformat": 4,
 "nbformat_minor": 5
}
